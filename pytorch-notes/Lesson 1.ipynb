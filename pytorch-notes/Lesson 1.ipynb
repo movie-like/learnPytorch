{
 "cells": [
  {
   "cell_type": "markdown",
   "source": [
    "#### 检测pytorch是否成功安装\n",
    "\n",
    "如果下面的代码能够运行没有标红报错则说明成功"
   ],
   "metadata": {
    "collapsed": false
   },
   "id": "721cad27fde7c5c0"
  },
  {
   "cell_type": "code",
   "execution_count": 1,
   "outputs": [
    {
     "name": "stdout",
     "output_type": "stream",
     "text": [
      "False\n"
     ]
    }
   ],
   "source": [
    "import torch\n",
    "print(torch.cuda.is_available())"
   ],
   "metadata": {
    "collapsed": false,
    "ExecuteTime": {
     "end_time": "2023-11-12T11:31:08.286704600Z",
     "start_time": "2023-11-12T11:31:06.263385600Z"
    }
   },
   "id": "794ffdc115679a0f"
  }
 ],
 "metadata": {
  "kernelspec": {
   "display_name": "Python [conda env:pytorch] *",
   "language": "python",
   "name": "conda-env-pytorch-py"
  },
  "language_info": {
   "codemirror_mode": {
    "name": "ipython",
    "version": 3
   },
   "file_extension": ".py",
   "mimetype": "text/x-python",
   "name": "python",
   "nbconvert_exporter": "python",
   "pygments_lexer": "ipython3",
   "version": "3.11.5"
  }
 },
 "nbformat": 4,
 "nbformat_minor": 5
}
